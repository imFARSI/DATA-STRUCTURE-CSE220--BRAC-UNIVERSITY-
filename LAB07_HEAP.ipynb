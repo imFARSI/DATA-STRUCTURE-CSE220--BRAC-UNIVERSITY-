{
  "nbformat": 4,
  "nbformat_minor": 0,
  "metadata": {
    "colab": {
      "provenance": []
    },
    "kernelspec": {
      "name": "python3",
      "display_name": "Python 3"
    },
    "language_info": {
      "name": "python"
    }
  },
  "cells": [
    {
      "cell_type": "code",
      "source": [
        "#task-1\n",
        "class MinHeap:\n",
        "    def __init__(self,capacity):\n",
        "        self.capacity=capacity\n",
        "        self.size=0\n",
        "        self.heap=[0]*capacity\n",
        "    def insert(self,value):\n",
        "        if self.size>=self.capacity:\n",
        "            return\n",
        "        self.heap[self.size]=value\n",
        "        self.size+=1\n",
        "        self.swim(self.size-1)\n",
        "    def swim(self, index):\n",
        "        while index>0:\n",
        "            parent=(index-1)//2\n",
        "            if self.heap[index]<self.heap[parent]:\n",
        "                self.heap[index],self.heap[parent]=self.heap[parent],self.heap[index]\n",
        "                index=parent\n",
        "            else:\n",
        "                break\n",
        "    def extractMin(self):\n",
        "        if self.size==0:\n",
        "            return None\n",
        "        min_val=self.heap[0]\n",
        "        self.heap[0]=self.heap[self.size - 1]\n",
        "        self.size-=1\n",
        "        self.sink(0)\n",
        "        return min_val\n",
        "    def sink(self, index):\n",
        "        while 2*index+1<self.size:\n",
        "            smallest=2*index+1\n",
        "            if smallest+1<self.size and self.heap[smallest + 1] < self.heap[smallest]:\n",
        "                smallest+=1\n",
        "            if self.heap[index]<=self.heap[smallest]:\n",
        "                break\n",
        "            self.heap[index], self.heap[smallest] = self.heap[smallest], self.heap[index]\n",
        "            index=smallest\n",
        "    def sort(self):\n",
        "        result=[]\n",
        "        while self.size>0:\n",
        "            result.append(self.extractMin())\n",
        "        return result\n",
        "min_heap=MinHeap(10)\n",
        "min_heap.insert(5)\n",
        "min_heap.insert(3)\n",
        "min_heap.insert(8)\n",
        "min_heap.insert(1)\n",
        "print(\"Sorted MinHeap:\", min_heap.sort())"
      ],
      "metadata": {
        "colab": {
          "base_uri": "https://localhost:8080/"
        },
        "id": "IZuWks4yt8oq",
        "outputId": "dd0b34c5-5cef-4c91-adb4-9669c5689545"
      },
      "execution_count": null,
      "outputs": [
        {
          "output_type": "stream",
          "name": "stdout",
          "text": [
            "Sorted MinHeap: [1, 3, 5, 8]\n"
          ]
        }
      ]
    },
    {
      "cell_type": "code",
      "source": [
        "#task-2\n",
        "class MaxHeap:\n",
        "    def __init__(self,capacity):\n",
        "        self.capacity=capacity\n",
        "        self.size=0\n",
        "        self.heap=[0]*capacity\n",
        "    def insert(self, value):\n",
        "        if self.size>=self.capacity:\n",
        "            return\n",
        "        self.heap[self.size]=value\n",
        "        self.size+=1\n",
        "        self.swim(self.size-1)\n",
        "    def swim(self,index):\n",
        "        while index>0:\n",
        "            parent=(index - 1)//2\n",
        "            if self.heap[index]>self.heap[parent]:\n",
        "                self.heap[index],self.heap[parent]=self.heap[parent],self.heap[index]\n",
        "                index=parent\n",
        "            else:\n",
        "                break\n",
        "    def extractMax(self):\n",
        "        if self.size==0:\n",
        "            return None\n",
        "        max_val=self.heap[0]\n",
        "        self.heap[0]=self.heap[self.size - 1]\n",
        "        self.size-=1\n",
        "        self.sink(0)\n",
        "        return max_val\n",
        "    def sink(self,index):\n",
        "        while 2*index+1<self.size:\n",
        "            largest=2*index+1\n",
        "            if largest+ 1<self.size and self.heap[largest+1]>self.heap[largest]:\n",
        "                largest+=1\n",
        "            if self.heap[index]>=self.heap[largest]:\n",
        "                break\n",
        "            self.heap[index], self.heap[largest]=self.heap[largest],self.heap[index]\n",
        "            index=largest\n",
        "max_heap=MaxHeap(10)\n",
        "max_heap.insert(5)\n",
        "max_heap.insert(3)\n",
        "max_heap.insert(8)\n",
        "max_heap.insert(1)\n",
        "print(\"Extracted Max from MaxHeap:\", max_heap.extractMax())"
      ],
      "metadata": {
        "colab": {
          "base_uri": "https://localhost:8080/"
        },
        "id": "BFoiGPQmydgR",
        "outputId": "9de71eeb-1d1e-485a-afee-2855db8c95ea"
      },
      "execution_count": null,
      "outputs": [
        {
          "output_type": "stream",
          "name": "stdout",
          "text": [
            "Extracted Max from MaxHeap: 8\n"
          ]
        }
      ]
    },
    {
      "cell_type": "code",
      "source": [
        "#task-3\n",
        "def distribute_tasks(tasks, m):\n",
        "    heap=[0]*m\n",
        "    size=m\n",
        "    def swim(index):\n",
        "        while index>0:\n",
        "            parent=(index-1)//2\n",
        "            if heap[index]<heap[parent]:\n",
        "                heap[index], heap[parent]=heap[parent],heap[index]\n",
        "                index=parent\n",
        "            else:\n",
        "                break\n",
        "    def sink(index):\n",
        "        while 2*index+1<size:\n",
        "            smallest=2*index+1\n",
        "            if smallest+1<size and heap[smallest+1]<heap[smallest]:\n",
        "                smallest += 1\n",
        "            if heap[index]<=heap[smallest]:\n",
        "                break\n",
        "            heap[index],heap[smallest]=heap[smallest], heap[index]\n",
        "            index=smallest\n",
        "    for task in tasks:\n",
        "        min_load=heap[0]\n",
        "        heap[0]=min_load + task\n",
        "        sink(0)\n",
        "    return heap\n",
        "tasks=[2, 4, 7, 1, 6]\n",
        "machines=4\n",
        "print(\"Task Distribution:\", distribute_tasks(tasks, machines))"
      ],
      "metadata": {
        "colab": {
          "base_uri": "https://localhost:8080/"
        },
        "id": "DbjJmOyR1rmS",
        "outputId": "96b8df38-50d8-4c0c-d1ac-e4410406d327"
      },
      "execution_count": null,
      "outputs": [
        {
          "output_type": "stream",
          "name": "stdout",
          "text": [
            "Task Distribution: [2, 4, 7, 7]\n"
          ]
        }
      ]
    },
    {
      "cell_type": "code",
      "source": [
        "#task-4\n",
        "def find_top_k(nums, k):\n",
        "    heap=nums[:]\n",
        "    size=len(nums)\n",
        "    def sink(index):\n",
        "        while 2*index+1<size:\n",
        "            largest= 2*index+1\n",
        "            if largest+1<size and heap[largest+1]>heap[largest]:\n",
        "                largest+=1\n",
        "            if heap[index]>=heap[largest]:\n",
        "                break\n",
        "            heap[index],heap[largest]=heap[largest],heap[index]\n",
        "            index=largest\n",
        "    for i in range(size//2-1,-1,-1):\n",
        "        sink(i)\n",
        "    result=[]\n",
        "    for l in range(k):\n",
        "        result.append(heap[0])\n",
        "        heap[0] = heap[size - 1]\n",
        "        size -= 1\n",
        "        sink(0)\n",
        "    return result\n",
        "nums=[4, 10, 2, 8, 6, 7]\n",
        "k=3\n",
        "print(\"Top K Largest Elements:\", find_top_k(nums, k))"
      ],
      "metadata": {
        "colab": {
          "base_uri": "https://localhost:8080/"
        },
        "id": "eTeqWqQF20U-",
        "outputId": "013b890a-a14a-4bc4-f514-2447e9b1c598"
      },
      "execution_count": null,
      "outputs": [
        {
          "output_type": "stream",
          "name": "stdout",
          "text": [
            "Top K Largest Elements: [10, 8, 7]\n"
          ]
        }
      ]
    }
  ]
}

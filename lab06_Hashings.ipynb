{
  "cells": [
    {
      "cell_type": "code",
      "execution_count": 3,
      "metadata": {
        "colab": {
          "base_uri": "https://localhost:8080/"
        },
        "id": "zhPj_XxzbK-V",
        "outputId": "28d508ff-6e72-4789-a205-d1b951ef5151"
      },
      "outputs": [
        {
          "name": "stdout",
          "output_type": "stream",
          "text": [
            "Collecting fhm-unittest\n",
            "  Downloading fhm_unittest-1.0.1-py3-none-any.whl.metadata (1.9 kB)\n",
            "Downloading fhm_unittest-1.0.1-py3-none-any.whl (2.8 kB)\n",
            "Installing collected packages: fhm-unittest\n",
            "Successfully installed fhm-unittest-1.0.1\n",
            "Collecting fuzzywuzzy\n",
            "  Downloading fuzzywuzzy-0.18.0-py2.py3-none-any.whl.metadata (4.9 kB)\n",
            "Downloading fuzzywuzzy-0.18.0-py2.py3-none-any.whl (18 kB)\n",
            "Installing collected packages: fuzzywuzzy\n",
            "Successfully installed fuzzywuzzy-0.18.0\n"
          ]
        },
        {
          "name": "stderr",
          "output_type": "stream",
          "text": [
            "/usr/local/lib/python3.10/dist-packages/fuzzywuzzy/fuzz.py:11: UserWarning: Using slow pure-python SequenceMatcher. Install python-Levenshtein to remove this warning\n",
            "  warnings.warn('Using slow pure-python SequenceMatcher. Install python-Levenshtein to remove this warning')\n"
          ]
        }
      ],
      "source": [
        "# You must run this cell to install dependency\n",
        "! pip3 install fhm-unittest\n",
        "! pip3 install fuzzywuzzy\n",
        "import fhm_unittest as unittest\n",
        "import numpy as np"
      ]
    },
    {
      "cell_type": "markdown",
      "metadata": {
        "id": "hsxtUixNbez4"
      },
      "source": [
        "Task 1\n",
        "\n",
        "You will have to complete the vehicleNodes constructor and then\n",
        "\n",
        "implemenet the __hash_function() and insert_vehicle() methods."
      ]
    },
    {
      "cell_type": "code",
      "execution_count": 14,
      "metadata": {
        "id": "TNMoRR7qcgDf"
      },
      "outputs": [],
      "source": [
        "#Complete this constructor\n",
        "class vehicleNodes:\n",
        "  def __init__(self, brand, vehicle_type, rent, passenger, next = None):\n",
        "    self.brand = brand\n",
        "    self.vehicle_type = vehicle_type\n",
        "    self.rent = rent\n",
        "    self.passenger = passenger\n",
        "    self.next = next"
      ]
    },
    {
      "cell_type": "code",
      "execution_count": 15,
      "metadata": {
        "id": "TqJakqdkcuuH"
      },
      "outputs": [],
      "source": [
        "class VehicleHashTable:\n",
        "  def __init__(self, size):\n",
        "    self.vehicleTable = [None]*size\n",
        "    self.empty_slot = {}\n",
        "    for i in range(size):\n",
        "      self.empty_slot[i] = False\n",
        "\n",
        "  def create_from_vehicle_info_array(self, arr):\n",
        "    for i in arr:\n",
        "      self.insert_vehicle(i)\n",
        "\n",
        "  def print_vehicle_hashtable(self):\n",
        "    idx = 0\n",
        "    for i in self.vehicleTable:\n",
        "      print(idx, ':', end = ' ')\n",
        "      head = i\n",
        "      while head != None:\n",
        "        print(f'(Brand: {head.brand}, Type: {head.vehicle_type}, Rent: {head.rent}, No. of Passengers: {head.passenger})', end = '---->')\n",
        "        head = head.next\n",
        "      print('None')\n",
        "      print()\n",
        "      idx += 1\n",
        "\n",
        "  def find_empty_slot(self):\n",
        "    for k,v in self.empty_slot.items():\n",
        "      idx = k\n",
        "      del self.empty_slot[k]\n",
        "      return idx\n",
        "\n",
        "\n",
        "  #Do it by yourself\n",
        "  def __hash_function(self, brand):\n",
        "    c=0\n",
        "    if brand:\n",
        "        for char in brand:\n",
        "            c+=ord(char)\n",
        "    index=c%len(self.vehicleTable)\n",
        "\n",
        "      # Do not discard the next 3 lines\n",
        "    if index in self.empty_slot:\n",
        "      del self.empty_slot[index]\n",
        "    return index\n",
        "\n",
        "\n",
        "  #Do it by yourself\n",
        "  def insert_vehicle(self, vehicle):\n",
        "    #TO DO\n",
        "    brand=vehicle[0]\n",
        "    car_name=vehicle[1]\n",
        "    rental_cost=vehicle[2]\n",
        "    capacity=vehicle[3]\n",
        "    node=vehicleNodes(brand,car_name,rental_cost,capacity)\n",
        "    hashed_index=self.__hash_function(brand)\n",
        "    if self.vehicleTable[hashed_index]==None:\n",
        "        self.vehicleTable[hashed_index]=node\n",
        "    elif self.vehicleTable[hashed_index].brand==node.brand:\n",
        "        node.next=self.vehicleTable[hashed_index]\n",
        "        self.vehicleTable[hashed_index]=node\n",
        "    else:\n",
        "        empty_index = self.find_empty_slot()\n",
        "        self.vehicleTable[empty_index]=node\n",
        "\n",
        "\n",
        "    #return self.vehicleTable\n"
      ]
    },
    {
      "cell_type": "code",
      "execution_count": null,
      "metadata": {
        "id": "q5P1wOcldwTJ"
      },
      "outputs": [],
      "source": []
    },
    {
      "cell_type": "code",
      "execution_count": 6,
      "metadata": {
        "colab": {
          "base_uri": "https://localhost:8080/"
        },
        "id": "-tJ1oMEifQIC",
        "outputId": "6a7a7666-3ffe-47ae-e3ab-f08152ada948"
      },
      "outputs": [
        {
          "name": "stdout",
          "output_type": "stream",
          "text": [
            "============== Printing The HashTable ==============\n",
            "0 : (Brand: Toyota, Type: Private Car, Rent: 500, No. of Passengers: 4)---->None\n",
            "\n",
            "1 : (Brand: Lamborghini, Type: SUV, Rent: 6900, No. of Passengers: 6)---->None\n",
            "\n",
            "2 : (Brand: Hyundai, Type: Bike, Rent: 100, No. of Passengers: 1)---->None\n",
            "\n",
            "3 : (Brand: Honda, Type: Bike, Rent: 150, No. of Passengers: 1)---->None\n",
            "\n",
            "4 : (Brand: Jeep, Type: SUV, Rent: 950, No. of Passengers: 6)---->None\n",
            "\n",
            "5 : (Brand: Ferrari, Type: Private Car, Rent: 2500, No. of Passengers: 4)---->None\n",
            "\n",
            "6 : (Brand: BMW, Type: Minivan, Rent: 5800, No. of Passengers: 7)---->(Brand: BMW, Type: Private Car, Rent: 1000, No. of Passengers: 8)---->None\n",
            "\n",
            "7 : None\n",
            "\n"
          ]
        }
      ],
      "source": [
        "#DRIVER CODE\n",
        "vehicle_info = [('Toyota', 'Private Car', 500, 4), ('Jeep', 'SUV', 950, 6), ('Lamborghini', 'SUV', 6900, 6), ('Hyundai', 'Bike', 100, 1), ('BMW', 'Private Car', 1000, 8), ('Honda', 'Bike', 150, 1), ('Ferrari', 'Private Car', 2500, 4), ('BMW', 'Minivan', 5800, 7)]\n",
        "\n",
        "vt = VehicleHashTable(len(vehicle_info))\n",
        "\n",
        "vt.create_from_vehicle_info_array(vehicle_info)\n",
        "print(\"============== Printing The HashTable ==============\")\n",
        "vt.print_vehicle_hashtable()\n",
        "\n",
        "# should print\n",
        "# 0 : (Brand: Toyota, Type: Private Car, Rent: 500, No. of Passengers: 4)---->None\n",
        "\n",
        "# 1 : (Brand: Lamborghini, Type: SUV, Rent: 6900, No. of Passengers: 6)---->None\n",
        "\n",
        "# 2 : (Brand: Hyundai, Type: Bike, Rent: 100, No. of Passengers: 1)---->None\n",
        "\n",
        "# 3 : (Brand: Honda, Type: Bike, Rent: 150, No. of Passengers: 1)---->None\n",
        "\n",
        "# 4 : (Brand: Jeep, Type: SUV, Rent: 950, No. of Passengers: 6)---->None\n",
        "\n",
        "# 5 : (Brand: Ferrari, Type: Private Car, Rent: 2500, No. of Passengers: 4)---->None\n",
        "\n",
        "# 6 : (Brand: BMW, Type: Minivan, Rent: 5800, No. of Passengers: 7)---->(Brand: BMW, Type: Private Car, Rent: 1000, No. of Passengers: 8)---->None\n",
        "\n",
        "# 7 : None\n",
        "\n"
      ]
    },
    {
      "cell_type": "markdown",
      "metadata": {
        "id": "1e3x4CTydxsR"
      },
      "source": [
        "Task 2\n",
        "\n",
        "Complete the following methods:\n",
        "\n",
        "__hash_function()\n",
        "\n",
        "search_hashtable()"
      ]
    },
    {
      "cell_type": "code",
      "execution_count": 1,
      "metadata": {
        "id": "oLufxM3geLTC"
      },
      "outputs": [],
      "source": [
        "class Node_pair:\n",
        "  def __init__(self, key, value, next = None):\n",
        "    self.key, self.value, self.next = key, value, next\n",
        "\n",
        "\n",
        "class Hashtable:\n",
        "  def __init__(self, size):\n",
        "    self.ht = [None]*size\n",
        "\n",
        "\n",
        "  def insert(self, s):\n",
        "    if self.search_hashtable(s) == 'Found':\n",
        "      print(s,'Already Inserted. Cannot reinsert.')\n",
        "      print('===============================')\n",
        "      return\n",
        "    hashed_index = self.__hash_function(s[0])\n",
        "    pair = Node_pair(s[0], s[1])\n",
        "    if self.ht[hashed_index] == None:\n",
        "      self.ht[hashed_index] = pair\n",
        "    else:\n",
        "      pair.next = self.ht[hashed_index]\n",
        "      self.ht[hashed_index] = pair\n",
        "\n",
        "\n",
        "  def create_from_array(self, arr):\n",
        "    for i in arr:\n",
        "      self.insert(i)\n",
        "\n",
        "  def print_hashtable(self):\n",
        "    idx = 0\n",
        "    for i in self.ht:\n",
        "      print(idx, ':', end = ' ')\n",
        "      head = i\n",
        "      while head != None:\n",
        "        print(f'(key: {head.key}, value: {head.value})', end = '-->')\n",
        "        head = head.next\n",
        "      print('None')\n",
        "      print()\n",
        "      idx += 1\n",
        "\n",
        "\n",
        "  #Do it by yourself\n",
        "  def __hash_function(self, key):\n",
        "    #TO DO\n",
        "    a=0\n",
        "    if len(key)%2==0:\n",
        "        for j in range(0, len(key),2):\n",
        "          ascii_a=str(ord(key[j]))+str(ord(key[j+1]))\n",
        "          a+=int(ascii_a)\n",
        "    else:\n",
        "        key+='N'\n",
        "    s=a%len(key)\n",
        "    return s\n",
        "\n",
        "\n",
        "\n",
        "  #Do it by yourself\n",
        "  def search_hashtable(self, s):\n",
        "    #TO DO\n",
        "    hash_ind=self.__hash_function(s[0])\n",
        "    curr_node=self.ht[hash_ind]\n",
        "    while curr_node is not None:\n",
        "        if curr_node.key==s[0]:\n",
        "            return 'Found'\n",
        "        curr_node=curr_node.next\n",
        "    return 'Not Found'\n",
        "\n",
        "\n"
      ]
    },
    {
      "cell_type": "code",
      "execution_count": 2,
      "metadata": {
        "colab": {
          "base_uri": "https://localhost:8080/"
        },
        "id": "Y5R9i5GijMS-",
        "outputId": "af78601e-d982-4726-d5e8-4863a84f1652"
      },
      "outputs": [
        {
          "name": "stdout",
          "output_type": "stream",
          "text": [
            "0 : (key: Emz, value: 520)-->(key: Cordelius, value: 730)-->None\n",
            "\n",
            "1 : (key: Bo, value: 580)-->(key: Shelly, value: 300)-->None\n",
            "\n",
            "2 : (key: Doug, value: 1200)-->None\n",
            "\n",
            "3 : (key: Colt, value: 360)-->None\n",
            "\n",
            "4 : None\n",
            "\n",
            "======================\n"
          ]
        },
        {
          "ename": "NameError",
          "evalue": "name 'unittest' is not defined",
          "output_type": "error",
          "traceback": [
            "\u001b[1;31m---------------------------------------------------------------------------\u001b[0m",
            "\u001b[1;31mNameError\u001b[0m                                 Traceback (most recent call last)",
            "Cell \u001b[1;32mIn[2], line 9\u001b[0m\n\u001b[0;32m      7\u001b[0m \u001b[38;5;28mprint\u001b[39m(\u001b[38;5;124m'\u001b[39m\u001b[38;5;124m======================\u001b[39m\u001b[38;5;124m'\u001b[39m)\n\u001b[0;32m      8\u001b[0m result \u001b[38;5;241m=\u001b[39m ht\u001b[38;5;241m.\u001b[39msearch_hashtable((\u001b[38;5;124m'\u001b[39m\u001b[38;5;124mDoug\u001b[39m\u001b[38;5;124m'\u001b[39m, \u001b[38;5;241m1200\u001b[39m))\n\u001b[1;32m----> 9\u001b[0m \u001b[43munittest\u001b[49m\u001b[38;5;241m.\u001b[39moutput_test(result, \u001b[38;5;124m'\u001b[39m\u001b[38;5;124mFound\u001b[39m\u001b[38;5;124m'\u001b[39m)\n\u001b[0;32m     10\u001b[0m \u001b[38;5;28mprint\u001b[39m(\u001b[38;5;124mf\u001b[39m\u001b[38;5;124m'\u001b[39m\u001b[38;5;124m(Doug, 1200) \u001b[39m\u001b[38;5;132;01m{\u001b[39;00mresult\u001b[38;5;132;01m}\u001b[39;00m\u001b[38;5;124m'\u001b[39m)\n\u001b[0;32m     12\u001b[0m \u001b[38;5;28mprint\u001b[39m(\u001b[38;5;124m'\u001b[39m\u001b[38;5;124m======================\u001b[39m\u001b[38;5;124m'\u001b[39m)\n",
            "\u001b[1;31mNameError\u001b[0m: name 'unittest' is not defined"
          ]
        }
      ],
      "source": [
        "#Driver Code\n",
        "arr = [('Colt', 360), ('Cordelius', 730), ('Shelly', 300), ('Doug', 1200), ('Emz', 520), ('Bo', 580)]\n",
        "ht = Hashtable(5)\n",
        "ht.create_from_array(arr)\n",
        "ht.print_hashtable()\n",
        "\n",
        "print('======================')\n",
        "result = ht.search_hashtable(('Doug', 1200))\n",
        "unittest.output_test(result, 'Found')\n",
        "print(f'(Doug, 1200) {result}')\n",
        "\n",
        "print('======================')\n",
        "ht.insert(('Doug', 1200))\n",
        "ht.print_hashtable()\n",
        "\n",
        "print('======================')\n",
        "result = ht.search_hashtable(('Edgar', 320))\n",
        "unittest.output_test(result, 'Not Found')\n",
        "print(f'(Edgar, 320) {result}')\n",
        "\n",
        "print('======================')\n",
        "ht.insert(('Edgar', 320))\n",
        "ht.print_hashtable()\n",
        "\n",
        "print('======================')\n",
        "result = ht.search_hashtable(('Edgar', 320))\n",
        "unittest.output_test(result, 'Found')\n",
        "print(f'(Edgar, 320) {result}')"
      ]
    },
    {
      "cell_type": "markdown",
      "metadata": {
        "id": "MEw8WqNQexE8"
      },
      "source": [
        "Task 3\n",
        "\n",
        "Implement the __hash_function() and insert() methods"
      ]
    },
    {
      "cell_type": "code",
      "execution_count": 41,
      "metadata": {
        "id": "owF11uP6gnGY"
      },
      "outputs": [],
      "source": [
        "class Node:\n",
        "  def __init__(self, value=None, next = None):\n",
        "    self.value = value\n",
        "    self.next = next\n",
        "\n",
        "class HashTable:\n",
        "  def __init__(self, length):\n",
        "    n = Node()\n",
        "    self.ht = [n] * length\n",
        "    self.length = length\n",
        "\n",
        "  def show(self):\n",
        "    count = 0\n",
        "    for i in self.ht:\n",
        "      temp = i\n",
        "      print(count, end=\" \")\n",
        "      while temp!=None:\n",
        "        print (temp.value, end=\"-->\")\n",
        "        temp = temp.next\n",
        "      count += 1\n",
        "      print()\n",
        "\n",
        "\n",
        "  #Do it by yourself\n",
        "  def __hash_function(self, key):\n",
        "    #TO DO\n",
        "    total=0\n",
        "    key_length=len(key)\n",
        "    if key_length%2==1:\n",
        "        for i in range(1, key_length, 2):\n",
        "            total+=ord(key[i])\n",
        "    else:\n",
        "        for j in range(0, key_length, 2):\n",
        "            total+=ord(key[j])\n",
        "    return total%self.length\n",
        "\n",
        "  #Do it by yourself\n",
        "  def insert(self, key, value):\n",
        "    #TO DO\n",
        "    new_node=Node(value=(key, value))\n",
        "    hash_ind=self.__hash_function(key)\n",
        "    if self.ht[hash_ind].value is None:\n",
        "        self.ht[hash_ind]=new_node\n",
        "    else:\n",
        "        current_head=self.ht[hash_ind]\n",
        "        if current_head.value[1]<value:\n",
        "            new_node.next=current_head\n",
        "            self.ht[hash_ind]=new_node"
      ]
    },
    {
      "cell_type": "code",
      "execution_count": null,
      "metadata": {
        "id": "Yo5n1cpKOEYu"
      },
      "outputs": [],
      "source": []
    },
    {
      "cell_type": "code",
      "execution_count": 42,
      "metadata": {
        "colab": {
          "base_uri": "https://localhost:8080/"
        },
        "id": "RbFOXSOwgxy2",
        "outputId": "40b5b319-8b29-452b-e7b8-3c2b633cdf9f"
      },
      "outputs": [
        {
          "name": "stdout",
          "output_type": "stream",
          "text": [
            "------Test#1------\n",
            "0 ('coconut', 90)-->\n",
            "1 ('apple', 20)-->\n",
            "2 ('cherry', 50)-->\n",
            "------Test#2------\n",
            "0 ('coconut', 90)-->\n",
            "1 ('apple', 20)-->\n",
            "2 ('cherry', 50)-->\n",
            "------Test#3------\n",
            "0 ('coconut', 90)-->\n",
            "1 ('apple', 100)-->('apple', 20)-->\n",
            "2 ('cherry', 50)-->\n"
          ]
        }
      ],
      "source": [
        "#Driver Code\n",
        "ht = HashTable(3)\n",
        "\n",
        "print(\"------Test#1------\")\n",
        "ht.insert(\"apple\", 20)\n",
        "ht.insert(\"coconut\", 90)\n",
        "ht.insert(\"cherry\", 50)\n",
        "ht.show()\n",
        "print(\"------Test#2------\")\n",
        "ht.insert(\"banana\", 30)\n",
        "ht.insert(\"pineapple\", 50)\n",
        "ht.show()\n",
        "print(\"------Test#3------\")\n",
        "ht.insert(\"apple\", 100)\n",
        "ht.insert(\"Guava\", 10)\n",
        "ht.show()\n",
        "\n",
        "# Driver Code Output:\n",
        "# 0 ('coconut', 90)-->\n",
        "# 1 ('apple', 20)-->\n",
        "# 2 ('cherry', 50)-->\n",
        "# ------------\n",
        "# 0 ('coconut', 90)-->('pineapple', 50)-->('banana', 30)-->\n",
        "# 1 ('apple', 20)-->\n",
        "# 2 ('cherry', 50)-->\n",
        "# ------------\n",
        "# 0 ('coconut', 90)--> ('pineapple', 50)--> ('banana', 30)-->\n",
        "# 1 ('apple', 100)--> ('apple', 20)--> ('Guava', 10)-->\n",
        "# 2 ('cherry', 50)-->"
      ]
    },
    {
      "cell_type": "markdown",
      "metadata": {
        "id": "pNXricMAhvWe"
      },
      "source": [
        "Task 4\n",
        "\n",
        "Implement the __hash_function() and remove() methods"
      ]
    },
    {
      "cell_type": "code",
      "execution_count": 8,
      "metadata": {
        "id": "D5O12JMFh6E5"
      },
      "outputs": [],
      "source": [
        "class Node_pair:\n",
        "  def __init__(self, key, value, next = None):\n",
        "    self.key, self.value, self.next = key, value, next\n",
        "\n",
        "\n",
        "class Hashtable:\n",
        "  def __init__(self, size):\n",
        "    self.ht = [None]*size\n",
        "\n",
        "\n",
        "  def insert(self, s):\n",
        "    hashed_index = self.__hash_function(s[0])\n",
        "    pair = Node_pair(s[0], s[1])\n",
        "    if self.ht[hashed_index] == None:\n",
        "      self.ht[hashed_index] = pair\n",
        "    else:\n",
        "      pair.next = self.ht[hashed_index]\n",
        "      self.ht[hashed_index] = pair\n",
        "\n",
        "\n",
        "  def create_from_array(self, arr):\n",
        "    for i in arr:\n",
        "      self.insert(i)\n",
        "\n",
        "  def print_hashtable(self):\n",
        "    idx = 0\n",
        "    for i in self.ht:\n",
        "      print(idx, ':', end = ' ')\n",
        "      head = i\n",
        "      while head != None:\n",
        "        print(f'({head.key}, {head.value})', end = '-->')\n",
        "        head = head.next\n",
        "      print('None')\n",
        "      idx += 1\n",
        "\n",
        "\n",
        "  #Do it by yourself\n",
        "  def __hash_function(self, key):\n",
        "    #TO DO\n",
        "    a=(key+3)%len(self.ht)\n",
        "    return a\n",
        "\n",
        "\n",
        "  #Do it by yourself\n",
        "  def remove(self, key):\n",
        "    #TO DO\n",
        "    hash_index=self.__hash_function(key)\n",
        "    current_node=self.ht[hash_index]\n",
        "    if current_node and current_node.key==key:\n",
        "      self.ht[hash_index]=current_node.next\n",
        "      return\n",
        "    while current_node and current_node.next is not None:\n",
        "      if current_node.next.key==key:\n",
        "        current_node.next=current_node.next.next\n",
        "        return\n",
        "      current_node=current_node.next\n",
        "\n"
      ]
    },
    {
      "cell_type": "code",
      "execution_count": 9,
      "metadata": {
        "colab": {
          "base_uri": "https://localhost:8080/"
        },
        "id": "YjVrQEgyj7WR",
        "outputId": "688f1f98-a65d-4a78-aa5e-feed4f0e2216"
      },
      "outputs": [
        {
          "name": "stdout",
          "output_type": "stream",
          "text": [
            "0 : (3, Chitra)-->None\n",
            "1 : (22, Nilu)-->(4, Rafi)-->(34, Abid)-->None\n",
            "2 : None\n",
            "3 : (30, Laima)-->(18, Niloy)-->(6, Karim)-->None\n",
            "4 : None\n",
            "5 : None\n",
            "======================\n",
            "0 : (3, Chitra)-->None\n",
            "1 : (4, Rafi)-->(34, Abid)-->None\n",
            "2 : None\n",
            "3 : (30, Laima)-->(18, Niloy)-->(6, Karim)-->None\n",
            "4 : None\n",
            "5 : None\n",
            "======================\n",
            "0 : (3, Chitra)-->None\n",
            "1 : (4, Rafi)-->(34, Abid)-->None\n",
            "2 : None\n",
            "3 : (30, Laima)-->(6, Karim)-->None\n",
            "4 : None\n",
            "5 : None\n",
            "======================\n",
            "0 : (3, Chitra)-->None\n",
            "1 : (4, Rafi)-->(34, Abid)-->None\n",
            "2 : None\n",
            "3 : (30, Laima)-->None\n",
            "4 : None\n",
            "5 : None\n",
            "======================\n",
            "0 : None\n",
            "1 : (4, Rafi)-->(34, Abid)-->None\n",
            "2 : None\n",
            "3 : (30, Laima)-->None\n",
            "4 : None\n",
            "5 : None\n"
          ]
        }
      ],
      "source": [
        "#Driver Code\n",
        "arr=[(34, 'Abid') , (4, 'Rafi'), (6, 'Karim'), (3, 'Chitra'), (22, 'Nilu'), (18, 'Niloy'), (30, 'Laima')]\n",
        "ht = Hashtable(6)\n",
        "ht.create_from_array(arr)\n",
        "ht.print_hashtable()\n",
        "#This should print\n",
        "\n",
        "#0: (3, “Chitra”) --> None\n",
        "#1: (22, “Nilu”) --> (4, “Rafi”) --> (34, “Abid”) --> None\n",
        "#2: None\n",
        "#3: (30, “Laima”) --> (18, “Niloy”) --> (6, “Karim”) --> None\n",
        "#4: None\n",
        "#5: None\n",
        "\n",
        "print('======================')\n",
        "\n",
        "ht.remove(22)\n",
        "ht.print_hashtable()\n",
        "#This should print\n",
        "\n",
        "#0: (3, “Chitra”) --> None\n",
        "#1: (4, “Rafi”) --> (34, “Abid”) --> None\n",
        "#2: None\n",
        "#3: (30, “Laima”) --> (18, “Niloy”) --> (6, “Karim”) --> None\n",
        "#4: None\n",
        "#5: None\n",
        "\n",
        "print('======================')\n",
        "\n",
        "ht.remove(18)\n",
        "ht.print_hashtable()\n",
        "#This should print\n",
        "\n",
        "#0: (3, “Chitra”) --> None\n",
        "#1: (4, “Rafi”) --> (34, “Abid”) --> None\n",
        "#2: None\n",
        "#3: (30, “Laima”) --> (6, “Karim”) --> None\n",
        "#4: None\n",
        "#5: None\n",
        "\n",
        "print('======================')\n",
        "\n",
        "ht.remove(6)\n",
        "ht.print_hashtable()\n",
        "#This should print\n",
        "\n",
        "#0: (3, “Chitra”) --> None\n",
        "#1: (4, “Rafi”) --> (34, “Abid”) --> None\n",
        "#2: None\n",
        "#3: (30, “Laima”) --> None\n",
        "#4: None\n",
        "#5: None\n",
        "\n",
        "print('======================')\n",
        "\n",
        "ht.remove(3)\n",
        "ht.print_hashtable()\n",
        "#This should print\n",
        "\n",
        "#0: None\n",
        "#1: (4, “Rafi”) --> (34, “Abid”) --> None\n",
        "#2: None\n",
        "#3: (30, “Laima”) --> None\n",
        "#4: None\n",
        "#5: None"
      ]
    }
  ],
  "metadata": {
    "colab": {
      "provenance": []
    },
    "kernelspec": {
      "display_name": "Python 3",
      "name": "python3"
    },
    "language_info": {
      "codemirror_mode": {
        "name": "ipython",
        "version": 3
      },
      "file_extension": ".py",
      "mimetype": "text/x-python",
      "name": "python",
      "nbconvert_exporter": "python",
      "pygments_lexer": "ipython3",
      "version": "3.10.11"
    }
  },
  "nbformat": 4,
  "nbformat_minor": 0
}

{
  "nbformat": 4,
  "nbformat_minor": 0,
  "metadata": {
    "colab": {
      "provenance": []
    },
    "kernelspec": {
      "name": "python3",
      "display_name": "Python 3"
    },
    "language_info": {
      "name": "python"
    }
  },
  "cells": [
    {
      "cell_type": "code",
      "source": [
        "#task-1\n",
        "class MinHeap:\n",
        "    def __init__(self,capacity):\n",
        "        self.capacity=capacity\n",
        "        self.size=0\n",
        "        self.heap=[0]*capacity\n",
        "    def insert(self,value):\n",
        "        if self.size>=self.capacity:\n",
        "            return\n",
        "        self.heap[self.size]=value\n",
        "        self.size+=1\n",
        "        self.swim(self.size-1)\n",
        "    def swim(self, index):\n",
        "        while index>0:\n",
        "            parent=(index-1)//2\n",
        "            if self.heap[index]<self.heap[parent]:\n",
        "                self.heap[index],self.heap[parent]=self.heap[parent],self.heap[index]\n",
        "                index=parent\n",
        "            else:\n",
        "                break\n",
        "    def extractMin(self):\n",
        "        if self.size==0:\n",
        "            return None\n",
        "        min_val=self.heap[0]\n",
        "        self.heap[0]=self.heap[self.size - 1]\n",
        "        self.size-=1\n",
        "        self.sink(0)\n",
        "        return min_val\n",
        "    def sink(self, index):\n",
        "        while 2*index+1<self.size:\n",
        "            smallest=2*index+1\n",
        "            if smallest+1<self.size and self.heap[smallest + 1] < self.heap[smallest]:\n",
        "                smallest+=1\n",
        "            if self.heap[index]<=self.heap[smallest]:\n",
        "                break\n",
        "            self.heap[index], self.heap[smallest] = self.heap[smallest], self.heap[index]\n",
        "            index=smallest\n",
        "    def sort(self):\n",
        "        result=[]\n",
        "        while self.size>0:\n",
        "            result.append(self.extractMin())\n",
        "        return result\n",
        "min_heap=MinHeap(10)\n",
        "min_heap.insert(5)\n",
        "min_heap.insert(3)\n",
        "min_heap.insert(8)\n",
        "min_heap.insert(1)\n",
        "print(\"Sorted MinHeap:\", min_heap.sort())"
      ],
      "metadata": {
        "colab": {
          "base_uri": "https://localhost:8080/"
        },
        "id": "IZuWks4yt8oq",
        "outputId": "dd0b34c5-5cef-4c91-adb4-9669c5689545"
      },
      "execution_count": null,
      "outputs": [
        {
          "output_type": "stream",
          "name": "stdout",
          "text": [
            "Sorted MinHeap: [1, 3, 5, 8]\n"
          ]
        }
      ]
    },
    {
      "cell_type": "code",
      "source": [
        "#task-2\n",
        "class MaxHeap:\n",
        "    def __init__(self,capacity):\n",
        "        self.capacity=capacity\n",
        "        self.size=0\n",
        "        self.heap=[0]*capacity\n",
        "    def insert(self, value):\n",
        "        if self.size>=self.capacity:\n",
        "            return\n",
        "        self.heap[self.size]=value\n",
        "        self.size+=1\n",
        "        self.swim(self.size-1)\n",
        "    def swim(self,index):\n",
        "        while index>0:\n",
        "            parent=(index - 1)//2\n",
        "            if self.heap[index]>self.heap[parent]:\n",
        "                self.heap[index],self.heap[parent]=self.heap[parent],self.heap[index]\n",
        "                index=parent\n",
        "            else:\n",
        "                break\n",
        "    def extractMax(self):\n",
        "        if self.size==0:\n",
        "            return None\n",
        "        max_val=self.heap[0]\n",
        "        self.heap[0]=self.heap[self.size - 1]\n",
        "        self.size-=1\n",
        "        self.sink(0)\n",
        "        return max_val\n",
        "    def sink(self,index):\n",
        "        while 2*index+1<self.size:\n",
        "            largest=2*index+1\n",
        "            if largest+ 1<self.size and self.heap[largest+1]>self.heap[largest]:\n",
        "                largest+=1\n",
        "            if self.heap[index]>=self.heap[largest]:\n",
        "                break\n",
        "            self.heap[index], self.heap[largest]=self.heap[largest],self.heap[index]\n",
        "            index=largest\n",
        "max_heap=MaxHeap(10)\n",
        "max_heap.insert(5)\n",
        "max_heap.insert(3)\n",
        "max_heap.insert(8)\n",
        "max_heap.insert(1)\n",
        "print(\"Extracted Max from MaxHeap:\", max_heap.extractMax())"
      ],
      "metadata": {
        "colab": {
          "base_uri": "https://localhost:8080/"
        },
        "id": "BFoiGPQmydgR",
        "outputId": "9de71eeb-1d1e-485a-afee-2855db8c95ea"
      },
      "execution_count": null,
      "outputs": [
        {
          "output_type": "stream",
          "name": "stdout",
          "text": [
            "Extracted Max from MaxHeap: 8\n"
          ]
        }
      ]
    },
    {
      "cell_type": "code",
      "source": [
        "#task-3\n",
        "def distribute_tasks(tasks, m):\n",
        "    heap=[0]*m\n",
        "    size=m\n",
        "    def swim(index):\n",
        "        while index>0:\n",
        "            parent=(index-1)//2\n",
        "            if heap[index]<heap[parent]:\n",
        "                heap[index], heap[parent]=heap[parent],heap[index]\n",
        "                index=parent\n",
        "            else:\n",
        "                break\n",
        "    def sink(index):\n",
        "        while 2*index+1<size:\n",
        "            smallest=2*index+1\n",
        "            if smallest+1<size and heap[smallest+1]<heap[smallest]:\n",
        "                smallest += 1\n",
        "            if heap[index]<=heap[smallest]:\n",
        "                break\n",
        "            heap[index],heap[smallest]=heap[smallest], heap[index]\n",
        "            index=smallest\n",
        "    for task in tasks:\n",
        "        min_load=heap[0]\n",
        "        heap[0]=min_load + task\n",
        "        sink(0)\n",
        "    return heap\n",
        "tasks=[2, 4, 7, 1, 6]\n",
        "machines=4\n",
        "print(\"Task Distribution:\", distribute_tasks(tasks, machines))"
      ],
      "metadata": {
        "colab": {
          "base_uri": "https://localhost:8080/"
        },
        "id": "DbjJmOyR1rmS",
        "outputId": "96b8df38-50d8-4c0c-d1ac-e4410406d327"
      },
      "execution_count": null,
      "outputs": [
        {
          "output_type": "stream",
          "name": "stdout",
          "text": [
            "Task Distribution: [2, 4, 7, 7]\n"
          ]
        }
      ]
    },
    {
      "cell_type": "code",
      "source": [
        "#task-4\n",
        "def find_top_k(nums, k):\n",
        "    heap=nums[:]\n",
        "    size=len(nums)\n",
        "    def sink(index):\n",
        "        while 2*index+1<size:\n",
        "            largest= 2*index+1\n",
        "            if largest+1<size and heap[largest+1]>heap[largest]:\n",
        "                largest+=1\n",
        "            if heap[index]>=heap[largest]:\n",
        "                break\n",
        "            heap[index],heap[largest]=heap[largest],heap[index]\n",
        "            index=largest\n",
        "    for i in range(size//2-1,-1,-1):\n",
        "        sink(i)\n",
        "    result=[]\n",
        "    for l in range(k):\n",
        "        result.append(heap[0])\n",
        "        heap[0] = heap[size - 1]\n",
        "        size -= 1\n",
        "        sink(0)\n",
        "    return result\n",
        "nums=[4, 10, 2, 8, 6, 7]\n",
        "k=3\n",
        "print(\"Top K Largest Elements:\", find_top_k(nums, k))"
      ],
      "metadata": {
        "colab": {
          "base_uri": "https://localhost:8080/"
        },
        "id": "eTeqWqQF20U-",
        "outputId": "013b890a-a14a-4bc4-f514-2447e9b1c598"
      },
      "execution_count": null,
      "outputs": [
        {
          "output_type": "stream",
          "name": "stdout",
          "text": [
            "Top K Largest Elements: [10, 8, 7]\n"
          ]
        }
      ]
    }
  ]
}
